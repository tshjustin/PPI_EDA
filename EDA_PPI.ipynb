{
 "cells": [
  {
   "cell_type": "code",
   "execution_count": 1,
   "metadata": {},
   "outputs": [],
   "source": [
    "import spektral"
   ]
  },
  {
   "cell_type": "code",
   "execution_count": 3,
   "metadata": {},
   "outputs": [
    {
     "name": "stdout",
     "output_type": "stream",
     "text": [
      "Downloading ppi dataset.\n"
     ]
    },
    {
     "name": "stderr",
     "output_type": "stream",
     "text": [
      "100%|██████████████████████████████████████| 25.8M/25.8M [00:12<00:00, 2.08MB/s]\n"
     ]
    },
    {
     "name": "stdout",
     "output_type": "stream",
     "text": [
      "Processing dataset.\n"
     ]
    },
    {
     "data": {
      "text/plain": [
       "PPI(n_graphs=1)"
      ]
     },
     "execution_count": 3,
     "metadata": {},
     "output_type": "execute_result"
    }
   ],
   "source": [
    "spektral.datasets.graphsage.PPI() # download PPI dataset "
   ]
  },
  {
   "cell_type": "code",
   "execution_count": 7,
   "metadata": {},
   "outputs": [
    {
     "name": "stdout",
     "output_type": "stream",
     "text": [
      "PPI(n_graphs=1)\n"
     ]
    }
   ],
   "source": [
    "from spektral.datasets.graphsage import PPI\n",
    "dataset = PPI()\n",
    "\n",
    "print(dataset) # number of graphs "
   ]
  },
  {
   "cell_type": "code",
   "execution_count": 11,
   "metadata": {},
   "outputs": [
    {
     "name": "stdout",
     "output_type": "stream",
     "text": [
      "Total nodes: 56944\n",
      "Total node features: 50\n",
      "Number of labels per node: 121\n",
      "Adjacency matrix shape: (56944, 56944)\n"
     ]
    }
   ],
   "source": [
    "graph = dataset[0]\n",
    "print(f\"Total nodes: {graph.x.shape[0]}\")\n",
    "print(f\"Total node features: {graph.x.shape[1]}\")\n",
    "print(f\"Number of labels per node: {graph.y.shape[1]}\")\n",
    "print(f\"Adjacency matrix shape: {graph.a.shape}\")"
   ]
  },
  {
   "cell_type": "markdown",
   "metadata": {},
   "source": [
    "Since the PPI data comes with a train-test-validation split on its own - Explore the distribution "
   ]
  },
  {
   "cell_type": "code",
   "execution_count": 14,
   "metadata": {},
   "outputs": [
    {
     "name": "stdout",
     "output_type": "stream",
     "text": [
      "Train set features: (44906, 50)\n",
      "Val set features: (6514, 50)\n",
      "Test set features: (5524, 50)\n"
     ]
    }
   ],
   "source": [
    "mask_tr = dataset.mask_tr\n",
    "mask_va = dataset.mask_va \n",
    "mask_te = dataset.mask_te  \n",
    "\n",
    "x_train = graph.x[mask_tr]\n",
    "a_train = graph.a\n",
    "y_train = graph.y[mask_tr]\n",
    "\n",
    "x_val = graph.x[mask_va]\n",
    "y_val = graph.y[mask_va]\n",
    "\n",
    "x_test = graph.x[mask_te]\n",
    "y_test = graph.y[mask_te]\n",
    "\n",
    "\n",
    "print(f\"Train set features: {x_train.shape}\")\n",
    "print(f\"Val set features: {x_val.shape}\")\n",
    "print(f\"Test set features: {x_test.shape}\")\n"
   ]
  },
  {
   "cell_type": "markdown",
   "metadata": {},
   "source": [
    "## PPI Dataset \n",
    "\n",
    "The PPI dataset contains a **single large graph** in this case - Split into a Train-Test-Validation Set \n",
    "\n",
    "### Training Set\n",
    "The training set have 44,906 nodes. Each node/protein is represented by a 50-dimensional feature vector. These features are gene sets, motif gene sets, etc\n",
    "Each of the 44,906 nodes have 121 possible labels.\n",
    "\n",
    "\n",
    "Similarly for the Validation and Test set "
   ]
  },
  {
   "cell_type": "code",
   "execution_count": 15,
   "metadata": {},
   "outputs": [
    {
     "ename": "ModuleNotFoundError",
     "evalue": "No module named 'matplotlib'",
     "output_type": "error",
     "traceback": [
      "\u001b[1;31m---------------------------------------------------------------------------\u001b[0m",
      "\u001b[1;31mModuleNotFoundError\u001b[0m                       Traceback (most recent call last)",
      "Cell \u001b[1;32mIn[15], line 2\u001b[0m\n\u001b[0;32m      1\u001b[0m \u001b[38;5;28;01mimport\u001b[39;00m \u001b[38;5;21;01mnumpy\u001b[39;00m \u001b[38;5;28;01mas\u001b[39;00m \u001b[38;5;21;01mnp\u001b[39;00m\n\u001b[1;32m----> 2\u001b[0m \u001b[38;5;28;01mimport\u001b[39;00m \u001b[38;5;21;01mmatplotlib\u001b[39;00m\u001b[38;5;21;01m.\u001b[39;00m\u001b[38;5;21;01mpyplot\u001b[39;00m \u001b[38;5;28;01mas\u001b[39;00m \u001b[38;5;21;01mplt\u001b[39;00m\n\u001b[0;32m      4\u001b[0m \u001b[38;5;66;03m# Calculate the mean and standard deviation of the node features\u001b[39;00m\n\u001b[0;32m      5\u001b[0m feature_means \u001b[38;5;241m=\u001b[39m np\u001b[38;5;241m.\u001b[39mmean(graph\u001b[38;5;241m.\u001b[39mx, axis\u001b[38;5;241m=\u001b[39m\u001b[38;5;241m0\u001b[39m)\n",
      "\u001b[1;31mModuleNotFoundError\u001b[0m: No module named 'matplotlib'"
     ]
    }
   ],
   "source": [
    "import numpy as np\n",
    "import matplotlib.pyplot as plt\n",
    "\n",
    "feature_means = np.mean(graph.x, axis=0)\n",
    "feature_stds = np.std(graph.x, axis=0)\n",
    "\n",
    "plt.figure(figsize=(10, 5))\n",
    "plt.subplot(1, 2, 1)\n",
    "plt.bar(range(graph.x.shape[1]), feature_means)\n",
    "plt.title('Feature Means')\n",
    "plt.subplot(1, 2, 2)\n",
    "plt.bar(range(graph.x.shape[1]), feature_stds)\n",
    "plt.title('Feature Standard Deviations')\n",
    "plt.show()\n"
   ]
  },
  {
   "cell_type": "code",
   "execution_count": null,
   "metadata": {},
   "outputs": [],
   "source": []
  }
 ],
 "metadata": {
  "kernelspec": {
   "display_name": "venv",
   "language": "python",
   "name": "python3"
  },
  "language_info": {
   "codemirror_mode": {
    "name": "ipython",
    "version": 3
   },
   "file_extension": ".py",
   "mimetype": "text/x-python",
   "name": "python",
   "nbconvert_exporter": "python",
   "pygments_lexer": "ipython3",
   "version": "3.12.0"
  }
 },
 "nbformat": 4,
 "nbformat_minor": 2
}
