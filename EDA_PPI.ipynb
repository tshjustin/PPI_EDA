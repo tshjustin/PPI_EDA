{
 "cells": [
  {
   "cell_type": "code",
   "execution_count": 45,
   "metadata": {},
   "outputs": [],
   "source": [
    "import spektral\n",
    "import numpy as np\n",
    "import matplotlib.pyplot as plt\n",
    "import pandas as pd\n",
    "import networkx as nx\n",
    "import matplotlib.pyplot as plt\n",
    "import torch"
   ]
  },
  {
   "cell_type": "code",
   "execution_count": 46,
   "metadata": {},
   "outputs": [
    {
     "data": {
      "text/plain": [
       "PPI(n_graphs=1)"
      ]
     },
     "execution_count": 46,
     "metadata": {},
     "output_type": "execute_result"
    }
   ],
   "source": [
    "spektral.datasets.graphsage.PPI() # download PPI dataset "
   ]
  },
  {
   "cell_type": "code",
   "execution_count": 47,
   "metadata": {},
   "outputs": [
    {
     "name": "stdout",
     "output_type": "stream",
     "text": [
      "PPI(n_graphs=1)\n"
     ]
    }
   ],
   "source": [
    "from spektral.datasets.graphsage import PPI\n",
    "dataset = PPI()\n",
    "\n",
    "print(dataset) # number of graphs "
   ]
  },
  {
   "cell_type": "code",
   "execution_count": 48,
   "metadata": {},
   "outputs": [
    {
     "name": "stdout",
     "output_type": "stream",
     "text": [
      "Total nodes: 56944\n",
      "Total node features: 50\n",
      "Number of labels per node: 121\n",
      "Adjacency matrix shape: (56944, 56944)\n"
     ]
    }
   ],
   "source": [
    "graph = dataset[0]\n",
    "print(f\"Total nodes: {graph.x.shape[0]}\")\n",
    "print(f\"Total node features: {graph.x.shape[1]}\")\n",
    "print(f\"Number of labels per node: {graph.y.shape[1]}\")\n",
    "print(f\"Adjacency matrix shape: {graph.a.shape}\")"
   ]
  },
  {
   "cell_type": "markdown",
   "metadata": {},
   "source": [
    "Since the PPI data comes with a train-test-validation split on its own - Explore the distribution "
   ]
  },
  {
   "cell_type": "code",
   "execution_count": 49,
   "metadata": {},
   "outputs": [
    {
     "name": "stdout",
     "output_type": "stream",
     "text": [
      "Train set features: (44906, 50)\n",
      "Val set features: (6514, 50)\n",
      "Test set features: (5524, 50)\n"
     ]
    }
   ],
   "source": [
    "mask_tr = dataset.mask_tr\n",
    "mask_va = dataset.mask_va \n",
    "mask_te = dataset.mask_te  \n",
    "\n",
    "x_train = graph.x[mask_tr]\n",
    "a_train = graph.a\n",
    "y_train = graph.y[mask_tr]\n",
    "\n",
    "x_val = graph.x[mask_va]\n",
    "y_val = graph.y[mask_va]\n",
    "\n",
    "x_test = graph.x[mask_te]\n",
    "y_test = graph.y[mask_te]\n",
    "\n",
    "\n",
    "print(f\"Train set features: {x_train.shape}\")\n",
    "print(f\"Val set features: {x_val.shape}\")\n",
    "print(f\"Test set features: {x_test.shape}\")\n"
   ]
  },
  {
   "cell_type": "markdown",
   "metadata": {},
   "source": [
    "## PPI Dataset Overview \n",
    "\n",
    "The PPI dataset contains a **single large graph** in this case - Split into a Train-Test-Validation Set \n",
    "\n",
    "### Training - Test - Validation Set\n",
    "The training set have 44,906 nodes. Each node/protein is represented by a 50-dimensional feature vector. These features are gene sets, motif gene sets, etc\n",
    "Each of the 44,906 nodes have 121 possible labels.\n",
    "\n",
    "\n",
    "Similarly for the Validation and Test set \n",
    "\n",
    "### Explore the distribution of class labels \n",
    "Check for class imbalances"
   ]
  },
  {
   "cell_type": "code",
   "execution_count": 50,
   "metadata": {},
   "outputs": [
    {
     "data": {
      "image/png": "[encoded data removed]",
      "text/plain": [
       "<Figure size 1000x500 with 1 Axes>"
      ]
     },
     "metadata": {},
     "output_type": "display_data"
    }
   ],
   "source": [
    "label_counts = np.sum(graph.y, axis=0)\n",
    "\n",
    "plt.figure(figsize=(10, 5))\n",
    "plt.bar(range(graph.y.shape[1]), label_counts)\n",
    "plt.title('Label Distribution')\n",
    "plt.xlabel('Label Index')\n",
    "plt.ylabel('Number of Nodes')\n",
    "plt.show()\n"
   ]
  },
  {
   "cell_type": "markdown",
   "metadata": {},
   "source": [
    "### Checking for labal proportion of each class "
   ]
  },
  {
   "cell_type": "code",
   "execution_count": 51,
   "metadata": {},
   "outputs": [
    {
     "name": "stdout",
     "output_type": "stream",
     "text": [
      "Label Counts and Proportions :\n",
      "Label 0: 37158.0 samples, 0.6525 proportion\n",
      "Label 1: 13730.0 samples, 0.2411 proportion\n",
      "Label 2: 11801.0 samples, 0.2072 proportion\n",
      "Label 3: 13901.0 samples, 0.2441 proportion\n",
      "Label 4: 7371.0 samples, 0.1294 proportion\n",
      "Label 5: 11039.0 samples, 0.1939 proportion\n",
      "Label 6: 14099.0 samples, 0.2476 proportion\n",
      "Label 7: 20204.0 samples, 0.3548 proportion\n",
      "Label 8: 8804.0 samples, 0.1546 proportion\n",
      "Label 9: 19742.0 samples, 0.3467 proportion\n",
      "Label 10: 12388.0 samples, 0.2175 proportion\n",
      "Label 11: 13538.0 samples, 0.2377 proportion\n",
      "Label 12: 40316.0 samples, 0.7080 proportion\n",
      "Label 13: 10716.0 samples, 0.1882 proportion\n",
      "Label 14: 10547.0 samples, 0.1852 proportion\n",
      "Label 15: 21046.0 samples, 0.3696 proportion\n",
      "Label 16: 5906.0 samples, 0.1037 proportion\n",
      "Label 17: 8000.0 samples, 0.1405 proportion\n",
      "Label 18: 15321.0 samples, 0.2691 proportion\n",
      "Label 19: 24239.0 samples, 0.4257 proportion\n",
      "Label 20: 10895.0 samples, 0.1913 proportion\n",
      "Label 21: 35769.0 samples, 0.6281 proportion\n",
      "Label 22: 13135.0 samples, 0.2307 proportion\n",
      "Label 23: 18500.0 samples, 0.3249 proportion\n",
      "Label 24: 9270.0 samples, 0.1628 proportion\n",
      "Label 25: 36035.0 samples, 0.6328 proportion\n",
      "Label 26: 38053.0 samples, 0.6683 proportion\n",
      "Label 27: 19056.0 samples, 0.3346 proportion\n",
      "Label 28: 39697.0 samples, 0.6971 proportion\n",
      "Label 29: 10106.0 samples, 0.1775 proportion\n",
      "Label 30: 38810.0 samples, 0.6815 proportion\n",
      "Label 31: 8207.0 samples, 0.1441 proportion\n",
      "Label 32: 50578.0 samples, 0.8882 proportion\n",
      "Label 33: 9275.0 samples, 0.1629 proportion\n",
      "Label 34: 12319.0 samples, 0.2163 proportion\n",
      "Label 35: 18637.0 samples, 0.3273 proportion\n",
      "Label 36: 11221.0 samples, 0.1971 proportion\n",
      "Label 37: 11954.0 samples, 0.2099 proportion\n",
      "Label 38: 23461.0 samples, 0.4120 proportion\n",
      "Label 39: 12244.0 samples, 0.2150 proportion\n",
      "Label 40: 8235.0 samples, 0.1446 proportion\n",
      "Label 41: 11803.0 samples, 0.2073 proportion\n",
      "Label 42: 11712.0 samples, 0.2057 proportion\n",
      "Label 43: 11532.0 samples, 0.2025 proportion\n",
      "Label 44: 7627.0 samples, 0.1339 proportion\n",
      "Label 45: 15968.0 samples, 0.2804 proportion\n",
      "Label 46: 22082.0 samples, 0.3878 proportion\n",
      "Label 47: 22517.0 samples, 0.3954 proportion\n",
      "Label 48: 13758.0 samples, 0.2416 proportion\n",
      "Label 49: 13211.0 samples, 0.2320 proportion\n",
      "Label 50: 20229.0 samples, 0.3552 proportion\n",
      "Label 51: 16782.0 samples, 0.2947 proportion\n",
      "Label 52: 24731.0 samples, 0.4343 proportion\n",
      "Label 53: 23715.0 samples, 0.4165 proportion\n",
      "Label 54: 14335.0 samples, 0.2517 proportion\n",
      "Label 55: 14850.0 samples, 0.2608 proportion\n",
      "Label 56: 9352.0 samples, 0.1642 proportion\n",
      "Label 57: 9505.0 samples, 0.1669 proportion\n",
      "Label 58: 9638.0 samples, 0.1693 proportion\n",
      "Label 59: 13116.0 samples, 0.2303 proportion\n",
      "Label 60: 25852.0 samples, 0.4540 proportion\n",
      "Label 61: 8898.0 samples, 0.1563 proportion\n",
      "Label 62: 10926.0 samples, 0.1919 proportion\n",
      "Label 63: 12244.0 samples, 0.2150 proportion\n",
      "Label 64: 11560.0 samples, 0.2030 proportion\n",
      "Label 65: 7077.0 samples, 0.1243 proportion\n",
      "Label 66: 28272.0 samples, 0.4965 proportion\n",
      "Label 67: 18775.0 samples, 0.3297 proportion\n",
      "Label 68: 27051.0 samples, 0.4750 proportion\n",
      "Label 69: 16131.0 samples, 0.2833 proportion\n",
      "Label 70: 13758.0 samples, 0.2416 proportion\n",
      "Label 71: 9270.0 samples, 0.1628 proportion\n",
      "Label 72: 9335.0 samples, 0.1639 proportion\n",
      "Label 73: 16631.0 samples, 0.2921 proportion\n",
      "Label 74: 10896.0 samples, 0.1913 proportion\n",
      "Label 75: 10925.0 samples, 0.1919 proportion\n",
      "Label 76: 18458.0 samples, 0.3241 proportion\n",
      "Label 77: 7599.0 samples, 0.1334 proportion\n",
      "Label 78: 15267.0 samples, 0.2681 proportion\n",
      "Label 79: 13224.0 samples, 0.2322 proportion\n",
      "Label 80: 12511.0 samples, 0.2197 proportion\n",
      "Label 81: 28757.0 samples, 0.5050 proportion\n",
      "Label 82: 15871.0 samples, 0.2787 proportion\n",
      "Label 83: 11028.0 samples, 0.1937 proportion\n",
      "Label 84: 9211.0 samples, 0.1618 proportion\n",
      "Label 85: 32931.0 samples, 0.5783 proportion\n",
      "Label 86: 5249.0 samples, 0.0922 proportion\n",
      "Label 87: 16214.0 samples, 0.2847 proportion\n",
      "Label 88: 15855.0 samples, 0.2784 proportion\n",
      "Label 89: 11376.0 samples, 0.1998 proportion\n",
      "Label 90: 9926.0 samples, 0.1743 proportion\n",
      "Label 91: 14799.0 samples, 0.2599 proportion\n",
      "Label 92: 18314.0 samples, 0.3216 proportion\n",
      "Label 93: 10138.0 samples, 0.1780 proportion\n",
      "Label 94: 11325.0 samples, 0.1989 proportion\n",
      "Label 95: 17345.0 samples, 0.3046 proportion\n",
      "Label 96: 9950.0 samples, 0.1747 proportion\n",
      "Label 97: 23243.0 samples, 0.4082 proportion\n",
      "Label 98: 24930.0 samples, 0.4378 proportion\n",
      "Label 99: 15128.0 samples, 0.2657 proportion\n",
      "Label 100: 28853.0 samples, 0.5067 proportion\n",
      "Label 101: 14639.0 samples, 0.2571 proportion\n",
      "Label 102: 9457.0 samples, 0.1661 proportion\n",
      "Label 103: 17114.0 samples, 0.3005 proportion\n",
      "Label 104: 10674.0 samples, 0.1874 proportion\n",
      "Label 105: 16857.0 samples, 0.2960 proportion\n",
      "Label 106: 16752.0 samples, 0.2942 proportion\n",
      "Label 107: 10909.0 samples, 0.1916 proportion\n",
      "Label 108: 26734.0 samples, 0.4695 proportion\n",
      "Label 109: 20728.0 samples, 0.3640 proportion\n",
      "Label 110: 18080.0 samples, 0.3175 proportion\n",
      "Label 111: 10528.0 samples, 0.1849 proportion\n",
      "Label 112: 15769.0 samples, 0.2769 proportion\n",
      "Label 113: 16487.0 samples, 0.2895 proportion\n",
      "Label 114: 11439.0 samples, 0.2009 proportion\n",
      "Label 115: 23903.0 samples, 0.4198 proportion\n",
      "Label 116: 50392.0 samples, 0.8849 proportion\n",
      "Label 117: 43369.0 samples, 0.7616 proportion\n",
      "Label 118: 46351.0 samples, 0.8140 proportion\n",
      "Label 119: 31661.0 samples, 0.5560 proportion\n",
      "Label 120: 14037.0 samples, 0.2465 proportion\n",
      "Label Counts and Proportions :\n",
      "Label 0: 37158.0 samples, 0.6525 proportion\n",
      "Label 1: 13730.0 samples, 0.2411 proportion\n",
      "Label 2: 11801.0 samples, 0.2072 proportion\n",
      "Label 3: 13901.0 samples, 0.2441 proportion\n",
      "Label 4: 7371.0 samples, 0.1294 proportion\n",
      "Label 5: 11039.0 samples, 0.1939 proportion\n",
      "Label 6: 14099.0 samples, 0.2476 proportion\n",
      "Label 7: 20204.0 samples, 0.3548 proportion\n",
      "Label 8: 8804.0 samples, 0.1546 proportion\n",
      "Label 9: 19742.0 samples, 0.3467 proportion\n",
      "Label 10: 12388.0 samples, 0.2175 proportion\n",
      "Label 11: 13538.0 samples, 0.2377 proportion\n",
      "Label 12: 40316.0 samples, 0.7080 proportion\n",
      "Label 13: 10716.0 samples, 0.1882 proportion\n",
      "Label 14: 10547.0 samples, 0.1852 proportion\n",
      "Label 15: 21046.0 samples, 0.3696 proportion\n",
      "Label 16: 5906.0 samples, 0.1037 proportion\n",
      "Label 17: 8000.0 samples, 0.1405 proportion\n",
      "Label 18: 15321.0 samples, 0.2691 proportion\n",
      "Label 19: 24239.0 samples, 0.4257 proportion\n",
      "Label 20: 10895.0 samples, 0.1913 proportion\n",
      "Label 21: 35769.0 samples, 0.6281 proportion\n",
      "Label 22: 13135.0 samples, 0.2307 proportion\n",
      "Label 23: 18500.0 samples, 0.3249 proportion\n",
      "Label 24: 9270.0 samples, 0.1628 proportion\n",
      "Label 25: 36035.0 samples, 0.6328 proportion\n",
      "Label 26: 38053.0 samples, 0.6683 proportion\n",
      "Label 27: 19056.0 samples, 0.3346 proportion\n",
      "Label 28: 39697.0 samples, 0.6971 proportion\n",
      "Label 29: 10106.0 samples, 0.1775 proportion\n",
      "Label 30: 38810.0 samples, 0.6815 proportion\n",
      "Label 31: 8207.0 samples, 0.1441 proportion\n",
      "Label 32: 50578.0 samples, 0.8882 proportion\n",
      "Label 33: 9275.0 samples, 0.1629 proportion\n",
      "Label 34: 12319.0 samples, 0.2163 proportion\n",
      "Label 35: 18637.0 samples, 0.3273 proportion\n",
      "Label 36: 11221.0 samples, 0.1971 proportion\n",
      "Label 37: 11954.0 samples, 0.2099 proportion\n",
      "Label 38: 23461.0 samples, 0.4120 proportion\n",
      "Label 39: 12244.0 samples, 0.2150 proportion\n",
      "Label 40: 8235.0 samples, 0.1446 proportion\n",
      "Label 41: 11803.0 samples, 0.2073 proportion\n",
      "Label 42: 11712.0 samples, 0.2057 proportion\n",
      "Label 43: 11532.0 samples, 0.2025 proportion\n",
      "Label 44: 7627.0 samples, 0.1339 proportion\n",
      "Label 45: 15968.0 samples, 0.2804 proportion\n",
      "Label 46: 22082.0 samples, 0.3878 proportion\n",
      "Label 47: 22517.0 samples, 0.3954 proportion\n",
      "Label 48: 13758.0 samples, 0.2416 proportion\n",
      "Label 49: 13211.0 samples, 0.2320 proportion\n",
      "Label 50: 20229.0 samples, 0.3552 proportion\n",
      "Label 51: 16782.0 samples, 0.2947 proportion\n",
      "Label 52: 24731.0 samples, 0.4343 proportion\n",
      "Label 53: 23715.0 samples, 0.4165 proportion\n",
      "Label 54: 14335.0 samples, 0.2517 proportion\n",
      "Label 55: 14850.0 samples, 0.2608 proportion\n",
      "Label 56: 9352.0 samples, 0.1642 proportion\n",
      "Label 57: 9505.0 samples, 0.1669 proportion\n",
      "Label 58: 9638.0 samples, 0.1693 proportion\n",
      "Label 59: 13116.0 samples, 0.2303 proportion\n",
      "Label 60: 25852.0 samples, 0.4540 proportion\n",
      "Label 61: 8898.0 samples, 0.1563 proportion\n",
      "Label 62: 10926.0 samples, 0.1919 proportion\n",
      "Label 63: 12244.0 samples, 0.2150 proportion\n",
      "Label 64: 11560.0 samples, 0.2030 proportion\n",
      "Label 65: 7077.0 samples, 0.1243 proportion\n",
      "Label 66: 28272.0 samples, 0.4965 proportion\n",
      "Label 67: 18775.0 samples, 0.3297 proportion\n",
      "Label 68: 27051.0 samples, 0.4750 proportion\n",
      "Label 69: 16131.0 samples, 0.2833 proportion\n",
      "Label 70: 13758.0 samples, 0.2416 proportion\n",
      "Label 71: 9270.0 samples, 0.1628 proportion\n",
      "Label 72: 9335.0 samples, 0.1639 proportion\n",
      "Label 73: 16631.0 samples, 0.2921 proportion\n",
      "Label 74: 10896.0 samples, 0.1913 proportion\n",
      "Label 75: 10925.0 samples, 0.1919 proportion\n",
      "Label 76: 18458.0 samples, 0.3241 proportion\n",
      "Label 77: 7599.0 samples, 0.1334 proportion\n",
      "Label 78: 15267.0 samples, 0.2681 proportion\n",
      "Label 79: 13224.0 samples, 0.2322 proportion\n",
      "Label 80: 12511.0 samples, 0.2197 proportion\n",
      "Label 81: 28757.0 samples, 0.5050 proportion\n",
      "Label 82: 15871.0 samples, 0.2787 proportion\n",
      "Label 83: 11028.0 samples, 0.1937 proportion\n",
      "Label 84: 9211.0 samples, 0.1618 proportion\n",
      "Label 85: 32931.0 samples, 0.5783 proportion\n",
      "Label 86: 5249.0 samples, 0.0922 proportion\n",
      "Label 87: 16214.0 samples, 0.2847 proportion\n",
      "Label 88: 15855.0 samples, 0.2784 proportion\n",
      "Label 89: 11376.0 samples, 0.1998 proportion\n",
      "Label 90: 9926.0 samples, 0.1743 proportion\n",
      "Label 91: 14799.0 samples, 0.2599 proportion\n",
      "Label 92: 18314.0 samples, 0.3216 proportion\n",
      "Label 93: 10138.0 samples, 0.1780 proportion\n",
      "Label 94: 11325.0 samples, 0.1989 proportion\n",
      "Label 95: 17345.0 samples, 0.3046 proportion\n",
      "Label 96: 9950.0 samples, 0.1747 proportion\n",
      "Label 97: 23243.0 samples, 0.4082 proportion\n",
      "Label 98: 24930.0 samples, 0.4378 proportion\n",
      "Label 99: 15128.0 samples, 0.2657 proportion\n",
      "Label 100: 28853.0 samples, 0.5067 proportion\n",
      "Label 101: 14639.0 samples, 0.2571 proportion\n",
      "Label 102: 9457.0 samples, 0.1661 proportion\n",
      "Label 103: 17114.0 samples, 0.3005 proportion\n",
      "Label 104: 10674.0 samples, 0.1874 proportion\n",
      "Label 105: 16857.0 samples, 0.2960 proportion\n",
      "Label 106: 16752.0 samples, 0.2942 proportion\n",
      "Label 107: 10909.0 samples, 0.1916 proportion\n",
      "Label 108: 26734.0 samples, 0.4695 proportion\n",
      "Label 109: 20728.0 samples, 0.3640 proportion\n",
      "Label 110: 18080.0 samples, 0.3175 proportion\n",
      "Label 111: 10528.0 samples, 0.1849 proportion\n",
      "Label 112: 15769.0 samples, 0.2769 proportion\n",
      "Label 113: 16487.0 samples, 0.2895 proportion\n",
      "Label 114: 11439.0 samples, 0.2009 proportion\n",
      "Label 115: 23903.0 samples, 0.4198 proportion\n",
      "Label 116: 50392.0 samples, 0.8849 proportion\n",
      "Label 117: 43369.0 samples, 0.7616 proportion\n",
      "Label 118: 46351.0 samples, 0.8140 proportion\n",
      "Label 119: 31661.0 samples, 0.5560 proportion\n",
      "Label 120: 14037.0 samples, 0.2465 proportion\n"
     ]
    },
    {
     "data": {
      "text/plain": [
       "(array([37158., 13730., 11801., 13901.,  7371., 11039., 14099., 20204.,\n",
       "         8804., 19742., 12388., 13538., 40316., 10716., 10547., 21046.,\n",
       "         5906.,  8000., 15321., 24239., 10895., 35769., 13135., 18500.,\n",
       "         9270., 36035., 38053., 19056., 39697., 10106., 38810.,  8207.,\n",
       "        50578.,  9275., 12319., 18637., 11221., 11954., 23461., 12244.,\n",
       "         8235., 11803., 11712., 11532.,  7627., 15968., 22082., 22517.,\n",
       "        13758., 13211., 20229., 16782., 24731., 23715., 14335., 14850.,\n",
       "         9352.,  9505.,  9638., 13116., 25852.,  8898., 10926., 12244.,\n",
       "        11560.,  7077., 28272., 18775., 27051., 16131., 13758.,  9270.,\n",
       "         9335., 16631., 10896., 10925., 18458.,  7599., 15267., 13224.,\n",
       "        12511., 28757., 15871., 11028.,  9211., 32931.,  5249., 16214.,\n",
       "        15855., 11376.,  9926., 14799., 18314., 10138., 11325., 17345.,\n",
       "         9950., 23243., 24930., 15128., 28853., 14639.,  9457., 17114.,\n",
       "        10674., 16857., 16752., 10909., 26734., 20728., 18080., 10528.,\n",
       "        15769., 16487., 11439., 23903., 50392., 43369., 46351., 31661.,\n",
       "        14037.], dtype=float32),\n",
       " array([0.6525358 , 0.24111408, 0.20723869, 0.24411702, 0.12944296,\n",
       "        0.19385712, 0.24759413, 0.35480472, 0.15460804, 0.3466915 ,\n",
       "        0.21754706, 0.23774235, 0.7079938 , 0.18818489, 0.18521705,\n",
       "        0.36959118, 0.10371593, 0.14048891, 0.26905382, 0.4256638 ,\n",
       "        0.19132832, 0.6281434 , 0.23066522, 0.32488057, 0.16279152,\n",
       "        0.6328147 , 0.668253  , 0.33464456, 0.69712347, 0.1774726 ,\n",
       "        0.6815468 , 0.14412405, 0.88820595, 0.16287932, 0.21633534,\n",
       "        0.32728645, 0.19705324, 0.20992555, 0.41200125, 0.21501826,\n",
       "        0.14461577, 0.20727381, 0.20567575, 0.20251475, 0.13393861,\n",
       "        0.28041583, 0.38778448, 0.39542356, 0.24160579, 0.23199986,\n",
       "        0.35524374, 0.2947106 , 0.43430388, 0.4164618 , 0.25173855,\n",
       "        0.2607825 , 0.16423152, 0.16691838, 0.169254  , 0.23033156,\n",
       "        0.4539899 , 0.15625878, 0.19187272, 0.21501826, 0.20300646,\n",
       "        0.12427999, 0.49648777, 0.3297099 , 0.47504565, 0.28327832,\n",
       "        0.24160579, 0.16279152, 0.163933  , 0.29205886, 0.19134589,\n",
       "        0.19185516, 0.32414302, 0.1334469 , 0.2681055 , 0.23222816,\n",
       "        0.21970709, 0.50500494, 0.27871242, 0.19366395, 0.16175541,\n",
       "        0.578305  , 0.09217828, 0.2847359 , 0.27843145, 0.19977522,\n",
       "        0.17431161, 0.25988692, 0.3216142 , 0.17803456, 0.1988796 ,\n",
       "        0.3045975 , 0.17473307, 0.40817294, 0.43779853, 0.26566452,\n",
       "        0.5066908 , 0.25707713, 0.16607544, 0.3005409 , 0.18744731,\n",
       "        0.2960277 , 0.29418376, 0.19157417, 0.4694788 , 0.36400676,\n",
       "        0.3175049 , 0.1848834 , 0.27692118, 0.28953007, 0.20088157,\n",
       "        0.41976327, 0.8849396 , 0.7616079 , 0.81397516, 0.5560024 ,\n",
       "        0.24650533], dtype=float32))"
      ]
     },
     "execution_count": 51,
     "metadata": {},
     "output_type": "execute_result"
    }
   ],
   "source": [
    "def check_class_proportion_ppi(labels):\n",
    "    \"\"\"Check the count and proportion of each label in the PPI dataset.\"\"\"\n",
    "    # Sum up the number of nodes with each label (column-wise sum)\n",
    "    label_counts = np.sum(labels, axis=0)\n",
    "    \n",
    "    # Calculate the proportion of nodes for each label\n",
    "    total_samples = labels.shape[0]\n",
    "    label_proportions = label_counts / total_samples\n",
    "\n",
    "    print(\"Label Counts and Proportions :\")\n",
    "    for i, (count, proportion) in enumerate(zip(label_counts, label_proportions)):\n",
    "        print(f\"Label {i}: {count} samples, {proportion:.4f} proportion\")\n",
    "    \n",
    "    return label_counts, label_proportions\n",
    "\n",
    "label_counts, label_proportions = check_class_proportion_ppi(graph.y)\n",
    "check_class_proportion_ppi(graph.y)\n"
   ]
  },
  {
   "cell_type": "code",
   "execution_count": 52,
   "metadata": {},
   "outputs": [
    {
     "name": "stdout",
     "output_type": "stream",
     "text": [
      "Node 0 has the following labels: [  0   9  12  17  19  21  25  26  28  30  31  32  41  47  53  54  61  65\n",
      "  75  81  83  85  92  94  95  97  98 100 109 115 116 117 118 119]\n",
      "Node 1 has the following labels: [  0   7   9  10  11  12  13  14  15  19  21  22  25  26  27  28  29  30\n",
      "  32  34  35  38  39  41  42  45  46  47  49  50  51  52  53  54  55  56\n",
      "  57  59  60  63  64  66  68  69  72  73  74  78  79  80  81  82  83  84\n",
      "  85  87  88  90  91  92  93  94  95  96  97  98 100 101 103 104 105 106\n",
      " 108 110 111 112 113 115 116 117 118 119 120]\n",
      "Node 2 has the following labels: [  0   1   2  12  13  18  19  21  23  25  26  28  30  32  33  43  46  47\n",
      "  48  52  58  60  62  66  70  76  81  85  95  97  99 105 116]\n",
      "Node 3 has the following labels: [  0   9  10  15  19  21  28  30  32  34  35  37  38  39  45  46  47  49\n",
      "  50  51  53  55  57  63  69  73  78  80  88  89  91  92  97  98 109 112\n",
      " 114 115 116 117 118]\n",
      "Node 4 has the following labels: [  0   7   8   9  10  11  12  13  15  19  21  22  23  28  30  32  34  35\n",
      "  36  37  38  39  42  43  45  46  47  49  50  51  52  53  54  55  56  57\n",
      "  59  60  62  63  66  69  73  76  78  79  80  81  82  84  85  87  88  89\n",
      "  90  91  92  95  97  98 101 103 106 107 112 113 114 115 116 117 118 120]\n"
     ]
    }
   ],
   "source": [
    "def show_labels_for_first_n_nodes(graph, n=5):\n",
    "    \"\"\"Show the labels for the first n nodes in the PPI dataset.\"\"\"\n",
    "    labels = graph.y  \n",
    "    for i in range(n):\n",
    "        node_labels = np.where(labels[i] == 1)[0]  # Get indices of labels where the value is 1\n",
    "        print(f\"Node {i} has the following labels: {node_labels}\")\n",
    "\n",
    "show_labels_for_first_n_nodes(graph, n=5)\n"
   ]
  },
  {
   "cell_type": "markdown",
   "metadata": {},
   "source": [
    "### Calculating the sparsity of the matrix graph \n",
    "\n",
    "0.99995 = Very sparse graph where this is the amount of empty spaces (alot of 0s since the matrix is large, compared to the number of edges actually present)"
   ]
  },
  {
   "cell_type": "code",
   "execution_count": 53,
   "metadata": {},
   "outputs": [
    {
     "name": "stdout",
     "output_type": "stream",
     "text": [
      "Adjacency matrix sparsity: 0.9995\n"
     ]
    }
   ],
   "source": [
    "adj_sparsity = 1 - (graph.a.count_nonzero() / (graph.a.shape[0] ** 2))\n",
    "\n",
    "print(f\"Adjacency matrix sparsity: {adj_sparsity:.4f}\")\n"
   ]
  },
  {
   "cell_type": "markdown",
   "metadata": {},
   "source": [
    "### Calculating the distrubtion node degree per node "
   ]
  },
  {
   "cell_type": "code",
   "execution_count": 54,
   "metadata": {},
   "outputs": [
    {
     "data": {
      "image/png": "[encoded data removed]",
      "text/plain": [
       "<Figure size 640x480 with 1 Axes>"
      ]
     },
     "metadata": {},
     "output_type": "display_data"
    },
    {
     "name": "stdout",
     "output_type": "stream",
     "text": [
      "Average node degree: 28.31\n",
      "Min node degree: 1.0\n",
      "Max node degree: 721.0\n"
     ]
    }
   ],
   "source": [
    "node_degrees = np.array(graph.a.sum(axis=1)).flatten()\n",
    "\n",
    "plt.hist(node_degrees, bins=50)\n",
    "plt.title('Node Degree Distribution')\n",
    "plt.xlabel('Degree')\n",
    "plt.ylabel('Number of Nodes')\n",
    "plt.show()\n",
    "\n",
    "print(f\"Average node degree: {np.mean(node_degrees):.2f}\")\n",
    "print(f\"Min node degree: {np.min(node_degrees)}\")\n",
    "print(f\"Max node degree: {np.max(node_degrees)}\")\n"
   ]
  },
  {
   "cell_type": "markdown",
   "metadata": {},
   "source": [
    "### Feature exploration "
   ]
  },
  {
   "cell_type": "code",
   "execution_count": 55,
   "metadata": {},
   "outputs": [
    {
     "name": "stdout",
     "output_type": "stream",
     "text": [
      "Sample of node features:\n",
      "   feature_0  feature_1  feature_2  feature_3  feature_4  feature_5  \\\n",
      "0        0.0        0.0        0.0        0.0        0.0        0.0   \n",
      "1        0.0        0.0        0.0        0.0        0.0        0.0   \n",
      "2        0.0        0.0        0.0        0.0        0.0        0.0   \n",
      "3        0.0        0.0        0.0        0.0        0.0        0.0   \n",
      "4        0.0        0.0        0.0        0.0        0.0        0.0   \n",
      "\n",
      "   feature_6  feature_7  feature_8  feature_9  \n",
      "0        0.0        0.0        0.0        0.0  \n",
      "1        0.0        0.0        0.0        0.0  \n",
      "2        0.0        0.0        0.0        0.0  \n",
      "3        0.0        0.0        0.0        0.0  \n",
      "4        0.0        0.0        0.0        0.0  \n"
     ]
    }
   ],
   "source": [
    "def sample_ppi_content(graph, num_rows=5, num_features=10):\n",
    "    \"\"\"Sample rows from PPI dataset's node features.\"\"\"\n",
    "    feature_columns = [f'feature_{i}' for i in range(graph.x.shape[1])]\n",
    "    sample_data = pd.DataFrame(graph.x[:num_rows, :num_features], columns=feature_columns[:num_features])\n",
    "    print(\"Sample of node features:\")\n",
    "    print(sample_data)\n",
    "    \n",
    "sample_ppi_content(graph, num_rows=5, num_features=10)\n"
   ]
  },
  {
   "cell_type": "markdown",
   "metadata": {},
   "source": [
    "Notice alot of 0s, check if its an error or just a sparse matrix filled with 0s by counting unique values of each feature "
   ]
  },
  {
   "cell_type": "code",
   "execution_count": 56,
   "metadata": {},
   "outputs": [
    {
     "name": "stdout",
     "output_type": "stream",
     "text": [
      "Non-zero counts per feature:\n",
      "[ 417  432  717 1627  336  564  322  731  826  562    0 1602  106  701\n",
      "  323  741  596  712 1142  535  426 1173  852  866  548  799  755  301\n",
      "  246  424 1771 1164 1405 1387 1209 9002 1432 1335 1278 1087  933 1310\n",
      " 1411 1324 1185 1160 1349 1076 1247 1233]\n"
     ]
    }
   ],
   "source": [
    "def check_non_zero_features(graph):\n",
    "    non_zero_counts = np.count_nonzero(graph.x, axis=0)\n",
    "    \n",
    "    print(\"Non-zero counts per feature:\")\n",
    "    print(non_zero_counts)\n",
    "\n",
    "check_non_zero_features(graph)\n"
   ]
  },
  {
   "cell_type": "markdown",
   "metadata": {},
   "source": [
    "The proportion dont add up to one - Since a node can belong to **multiple labels at once**\n",
    "\n",
    "### Visualization of Graph "
   ]
  },
  {
   "cell_type": "code",
   "execution_count": 57,
   "metadata": {},
   "outputs": [],
   "source": [
    "def create_ppi_graph(graph):\n",
    "    \"\"\"Create the PPI graph from the adjacency matrix.\"\"\"\n",
    "    G = nx.Graph()\n",
    "    adj_matrix = graph.a.tocoo()  # Get sparse adjacency matrix in COO format\n",
    "    edges = zip(adj_matrix.row, adj_matrix.col)  # Extract edges from row and col indices\n",
    "    G.add_edges_from(edges)\n",
    "    return G\n",
    "\n",
    "def visualize_ppi_graph(G):\n",
    "    \"\"\"Visualize the PPI graph.\"\"\"\n",
    "    plt.figure(figsize=(10, 10))\n",
    "    pos = nx.spring_layout(G, seed=42)\n",
    "    nx.draw(G, pos, node_size=10, node_color='blue', edge_color='gray', with_labels=False)\n",
    "    plt.title(\"PPI Graph\")\n",
    "    plt.show()\n",
    "\n",
    "def ppi_graph_statistics(G):\n",
    "    \"\"\"Print statistics of the PPI graph.\"\"\"\n",
    "    print(f\"Number of nodes: {G.number_of_nodes()}\")\n",
    "    print(f\"Number of edges: {G.number_of_edges()}\")\n",
    "    avg_degree = sum(dict(G.degree()).values()) / G.number_of_nodes()\n",
    "    print(f\"Average node degree: {avg_degree:.2f}\")"
   ]
  },
  {
   "cell_type": "code",
   "execution_count": 59,
   "metadata": {},
   "outputs": [
    {
     "name": "stdout",
     "output_type": "stream",
     "text": [
      "Created Graph\n",
      "Number of nodes: 56944\n",
      "Number of edges: 818716\n",
      "Average node degree: 28.76\n"
     ]
    }
   ],
   "source": [
    "ppi_graph = create_ppi_graph(graph)\n",
    "print(\"Created Graph\")\n",
    "\n",
    "# visualize_ppi_graph(ppi_graph) # takes alot cpu power \n",
    "ppi_graph_statistics(ppi_graph)"
   ]
  },
  {
   "cell_type": "markdown",
   "metadata": {},
   "source": [
    "While the matrix representation is sparse, the graph is still dense, as the number of edges >> nodes "
   ]
  },
  {
   "cell_type": "code",
   "execution_count": 63,
   "metadata": {},
   "outputs": [
    {
     "name": "stdout",
     "output_type": "stream",
     "text": [
      "Nodes and features saved to data/ppi_nodes.csv\n",
      "Edges saved to data/ppi_edges.csv\n",
      "Labels saved to data/ppi_labels.csv\n"
     ]
    }
   ],
   "source": [
    "def export_nodes_and_features(graph, output_file=\"data/nodes.csv\"):\n",
    "    \"\"\"Export nodes with features to a CSV file.\"\"\"\n",
    "    num_nodes = graph.x.shape[0]\n",
    "    feature_columns = [f\"feature_{i}\" for i in range(graph.x.shape[1])]\n",
    "    \n",
    "    df_nodes = pd.DataFrame(graph.x, columns=feature_columns)\n",
    "    df_nodes['node_id'] = np.arange(num_nodes)\n",
    "    \n",
    "    # Save to CSV\n",
    "    df_nodes.to_csv(output_file, index=False)\n",
    "    print(f\"Nodes and features saved to {output_file}\")\n",
    "\n",
    "def export_edges(graph, output_file=\"data/edges.csv\"):\n",
    "    \"\"\"Export edges to a CSV file.\"\"\"\n",
    "    # Get adjacency matrix in COO format to extract edges\n",
    "    adj_matrix = graph.a.tocoo()  # Sparse matrix in COO format\n",
    "    \n",
    "    df_edges = pd.DataFrame({\n",
    "        'source': adj_matrix.row,\n",
    "        'target': adj_matrix.col\n",
    "    })\n",
    "    \n",
    "    df_edges.to_csv(output_file, index=False)\n",
    "    print(f\"Edges saved to {output_file}\")\n",
    "\n",
    "def export_labels(graph, output_file=\"data/labels.csv\"):\n",
    "    \"\"\"Export node labels to a CSV file.\"\"\"\n",
    "    num_nodes = graph.y.shape[0]\n",
    "    label_columns = [f\"label_{i}\" for i in range(graph.y.shape[1])]\n",
    "    \n",
    "    df_labels = pd.DataFrame(graph.y, columns=label_columns)\n",
    "    df_labels['node_id'] = np.arange(num_nodes)\n",
    "    \n",
    "    # Save to CSV\n",
    "    df_labels.to_csv(output_file, index=False)\n",
    "    print(f\"Labels saved to {output_file}\")\n",
    "\n",
    "export_nodes_and_features(graph, \"data/ppi_nodes.csv\")\n",
    "export_edges(graph, \"data/ppi_edges.csv\")\n",
    "export_labels(graph, \"data/ppi_labels.csv\")\n"
   ]
  },
  {
   "cell_type": "code",
   "execution_count": null,
   "metadata": {},
   "outputs": [],
   "source": []
  }
 ],
 "metadata": {
  "kernelspec": {
   "display_name": "venv",
   "language": "python",
   "name": "python3"
  },
  "language_info": {
   "codemirror_mode": {
    "name": "ipython",
    "version": 3
   },
   "file_extension": ".py",
   "mimetype": "text/x-python",
   "name": "python",
   "nbconvert_exporter": "python",
   "pygments_lexer": "ipython3",
   "version": "3.12.0"
  }
 },
 "nbformat": 4,
 "nbformat_minor": 2
}
